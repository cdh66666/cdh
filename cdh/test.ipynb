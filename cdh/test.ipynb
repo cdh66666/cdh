{
 "cells": [
  {
   "cell_type": "markdown",
   "id": "ea067b39",
   "metadata": {},
   "source": [
    "# 用于测试代码"
   ]
  },
  {
   "cell_type": "code",
   "execution_count": null,
   "id": "37ab8a35",
   "metadata": {},
   "outputs": [],
   "source": []
  }
 ],
 "metadata": {
  "language_info": {
   "name": "python"
  }
 },
 "nbformat": 4,
 "nbformat_minor": 5
}
